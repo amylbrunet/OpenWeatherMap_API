{
 "cells": [
  {
   "cell_type": "markdown",
   "metadata": {},
   "source": [
    "# WeatherPy\n",
    "----\n",
    "\n",
    "#### Note\n",
    "* Instructions have been included for each segment. You do not have to follow them exactly, but they are included to help you think through the steps."
   ]
  },
  {
   "cell_type": "code",
   "execution_count": 4,
   "metadata": {
    "scrolled": true
   },
   "outputs": [],
   "source": [
    "# Dependencies and Setup\n",
    "import matplotlib.pyplot as plt\n",
    "import pandas as pd\n",
    "import numpy as np\n",
    "import requests\n",
    "import time\n",
    "from scipy.stats import linregress\n",
    "\n",
    "# Import API key\n",
    "from api_keys import api_key\n",
    "\n",
    "# Incorporated citipy to determine city based on latitude and longitude\n",
    "from citipy import citipy\n",
    "\n",
    "# Output File (CSV)\n",
    "output_data_file = \"cities.csv\"\n",
    "\n",
    "# Range of latitudes and longitudes\n",
    "lat_range = (-90, 90)\n",
    "lng_range = (-180, 180)\n"
   ]
  },
  {
   "cell_type": "markdown",
   "metadata": {},
   "source": [
    "## Generate Cities List"
   ]
  },
  {
   "cell_type": "code",
   "execution_count": 5,
   "metadata": {},
   "outputs": [
    {
     "data": {
      "text/plain": [
       "597"
      ]
     },
     "execution_count": 5,
     "metadata": {},
     "output_type": "execute_result"
    }
   ],
   "source": [
    "# List for holding lat_lngs and cities\n",
    "lat_lngs = []\n",
    "cities = []\n",
    "\n",
    "# Create a set of random lat and lng combinations\n",
    "lats = np.random.uniform(lat_range[0], lat_range[1], size=1500)\n",
    "lngs = np.random.uniform(lng_range[0], lng_range[1], size=1500)\n",
    "lat_lngs = zip(lats, lngs)\n",
    "\n",
    "# Identify nearest city for each lat, lng combination\n",
    "for lat_lng in lat_lngs:\n",
    "    city = citipy.nearest_city(lat_lng[0], lat_lng[1]).city_name\n",
    "    \n",
    "    # If the city is unique, then add it to a our cities list\n",
    "    if city not in cities:\n",
    "        cities.append(city)\n",
    "\n",
    "# Print the city count to confirm sufficient count\n",
    "len(cities)"
   ]
  },
  {
   "cell_type": "markdown",
   "metadata": {},
   "source": [
    "### Perform API Calls\n",
    "* Perform a weather check on each city using a series of successive API calls.\n",
    "* Include a print log of each city as it'sbeing processed (with the city number and city name).\n"
   ]
  },
  {
   "cell_type": "code",
   "execution_count": 8,
   "metadata": {
    "scrolled": true
   },
   "outputs": [
    {
     "name": "stdout",
     "output_type": "stream",
     "text": [
      "Beginning Data Retrieval\n",
      "------------------------\n",
      "Processing record for 1 of Set 1 | narsaq\n",
      "Processing record for 2 of Set 1 | mataura\n",
      "Processing record for 3 of Set 1 | georgetown\n",
      "Processing record for 4 of Set 1 | listvyanskiy\n",
      "Processing record for 5 of Set 1 | mar del plata\n",
      "Processing record for 6 of Set 1 | namibe\n",
      "saleaula not found. Skipping...\n",
      "Processing record for 7 of Set 1 | bambous virieux\n",
      "Processing record for 8 of Set 1 | lebu\n",
      "Processing record for 9 of Set 1 | ocean city\n",
      "Processing record for 10 of Set 1 | tahta\n",
      "Processing record for 11 of Set 1 | rikitea\n",
      "Processing record for 12 of Set 1 | avarua\n",
      "Processing record for 13 of Set 1 | hermanus\n",
      "Processing record for 14 of Set 1 | hithadhoo\n",
      "Processing record for 15 of Set 1 | punta arenas\n",
      "Processing record for 16 of Set 1 | east london\n",
      "Processing record for 17 of Set 1 | faanui\n",
      "kamenskoye not found. Skipping...\n",
      "Processing record for 18 of Set 1 | souillac\n",
      "Processing record for 19 of Set 1 | albany\n",
      "Processing record for 20 of Set 1 | atikokan\n",
      "Processing record for 21 of Set 1 | puerto ayora\n",
      "Processing record for 22 of Set 1 | pecos\n",
      "Processing record for 23 of Set 1 | nacala\n",
      "Processing record for 24 of Set 1 | jamestown\n",
      "Processing record for 25 of Set 1 | busselton\n",
      "Processing record for 26 of Set 1 | castro\n",
      "Processing record for 27 of Set 1 | geraldton\n",
      "Processing record for 28 of Set 1 | coahuayana\n",
      "Processing record for 29 of Set 1 | upernavik\n",
      "Processing record for 30 of Set 1 | sydney\n",
      "Processing record for 31 of Set 1 | ushuaia\n",
      "Processing record for 32 of Set 1 | yellowknife\n",
      "Processing record for 33 of Set 1 | vaini\n",
      "Processing record for 34 of Set 1 | barrow\n",
      "Processing record for 35 of Set 1 | tiarei\n",
      "Processing record for 36 of Set 1 | tiksi\n",
      "Processing record for 37 of Set 1 | hornepayne\n",
      "Processing record for 38 of Set 1 | cape town\n",
      "Processing record for 39 of Set 1 | new norfolk\n",
      "Processing record for 40 of Set 1 | hilo\n",
      "chagda not found. Skipping...\n",
      "Processing record for 41 of Set 1 | kodiak\n",
      "Processing record for 42 of Set 1 | hargeysa\n",
      "Processing record for 43 of Set 1 | chokurdakh\n",
      "Processing record for 44 of Set 1 | yar-sale\n",
      "Processing record for 45 of Set 1 | uglegorsk\n",
      "Processing record for 46 of Set 1 | sitka\n",
      "Processing record for 47 of Set 1 | bredasdorp\n",
      "Processing record for 48 of Set 1 | butaritari\n",
      "Processing record for 49 of Set 1 | margate\n",
      "Processing record for 50 of Set 1 | dingle\n",
      "tumannyy not found. Skipping...\n",
      "Processing record for 1 of Set 2 | kahului\n",
      "illoqqortoormiut not found. Skipping...\n",
      "Processing record for 2 of Set 2 | pangnirtung\n",
      "nizhneyansk not found. Skipping...\n",
      "Processing record for 3 of Set 2 | traralgon\n",
      "Processing record for 4 of Set 2 | tuktoyaktuk\n",
      "Processing record for 5 of Set 2 | port alfred\n",
      "Processing record for 6 of Set 2 | dunedin\n",
      "Processing record for 7 of Set 2 | yarada\n",
      "Processing record for 8 of Set 2 | ust-nera\n",
      "Processing record for 9 of Set 2 | caravelas\n",
      "Processing record for 10 of Set 2 | ponta delgada\n",
      "Processing record for 11 of Set 2 | bonavista\n",
      "Processing record for 12 of Set 2 | mareeba\n",
      "Processing record for 13 of Set 2 | pelym\n",
      "Processing record for 14 of Set 2 | hofn\n",
      "Processing record for 15 of Set 2 | dikson\n",
      "Processing record for 16 of Set 2 | carnarvon\n",
      "Processing record for 17 of Set 2 | naze\n",
      "Processing record for 18 of Set 2 | baijiantan\n",
      "Processing record for 19 of Set 2 | cabedelo\n",
      "taolanaro not found. Skipping...\n",
      "Processing record for 20 of Set 2 | mongoumba\n",
      "Processing record for 21 of Set 2 | kieta\n",
      "barentsburg not found. Skipping...\n",
      "Processing record for 22 of Set 2 | alice springs\n",
      "Processing record for 23 of Set 2 | llangefni\n",
      "Processing record for 24 of Set 2 | angoche\n",
      "Processing record for 25 of Set 2 | havre-saint-pierre\n",
      "Processing record for 26 of Set 2 | sept-iles\n",
      "Processing record for 27 of Set 2 | cabo san lucas\n",
      "Processing record for 28 of Set 2 | lindi\n",
      "Processing record for 29 of Set 2 | akyab\n",
      "Processing record for 30 of Set 2 | lavrentiya\n",
      "Processing record for 31 of Set 2 | lazaro cardenas\n",
      "Processing record for 32 of Set 2 | arraial do cabo\n",
      "vaitupu not found. Skipping...\n",
      "Processing record for 33 of Set 2 | mountain home\n",
      "Processing record for 34 of Set 2 | airai\n",
      "Processing record for 35 of Set 2 | huarmey\n",
      "Processing record for 36 of Set 2 | qaanaaq\n",
      "bolungarvik not found. Skipping...\n",
      "Processing record for 37 of Set 2 | nikolskoye\n",
      "Processing record for 38 of Set 2 | luang prabang\n",
      "Processing record for 39 of Set 2 | maxixe\n",
      "Processing record for 40 of Set 2 | devils lake\n",
      "Processing record for 41 of Set 2 | kavieng\n",
      "Processing record for 42 of Set 2 | abu samrah\n",
      "Processing record for 43 of Set 2 | beringovskiy\n",
      "Processing record for 44 of Set 2 | krasnoarmeysk\n",
      "Processing record for 45 of Set 2 | atuona\n",
      "Processing record for 46 of Set 2 | bengkulu\n",
      "Processing record for 47 of Set 2 | the pas\n",
      "Processing record for 48 of Set 2 | katsuura\n",
      "Processing record for 49 of Set 2 | saskylakh\n",
      "Processing record for 50 of Set 2 | kommunisticheskiy\n",
      "Processing record for 1 of Set 3 | tuatapere\n",
      "Processing record for 2 of Set 3 | nouadhibou\n",
      "Processing record for 3 of Set 3 | ende\n",
      "Processing record for 4 of Set 3 | torbay\n",
      "Processing record for 5 of Set 3 | kupino\n",
      "Processing record for 6 of Set 3 | saint-philippe\n",
      "Processing record for 7 of Set 3 | koslan\n",
      "Processing record for 8 of Set 3 | bulgan\n",
      "Processing record for 9 of Set 3 | ponta do sol\n",
      "Processing record for 10 of Set 3 | la libertad\n",
      "Processing record for 11 of Set 3 | prince rupert\n",
      "Processing record for 12 of Set 3 | ternovka\n",
      "Processing record for 13 of Set 3 | general roca\n",
      "Processing record for 14 of Set 3 | makat\n",
      "Processing record for 15 of Set 3 | gamba\n",
      "Processing record for 16 of Set 3 | indianola\n",
      "Processing record for 17 of Set 3 | codrington\n",
      "Processing record for 18 of Set 3 | hasaki\n",
      "Processing record for 19 of Set 3 | saldanha\n",
      "Processing record for 20 of Set 3 | rimbey\n",
      "Processing record for 21 of Set 3 | ilulissat\n",
      "belushya guba not found. Skipping...\n",
      "Processing record for 22 of Set 3 | chuy\n",
      "Processing record for 23 of Set 3 | klyuchi\n",
      "mys shmidta not found. Skipping...\n",
      "Processing record for 24 of Set 3 | tiznit\n",
      "Processing record for 25 of Set 3 | saint george\n",
      "Processing record for 26 of Set 3 | talnakh\n",
      "Processing record for 27 of Set 3 | kapaa\n",
      "Processing record for 28 of Set 3 | raychikhinsk\n",
      "Processing record for 29 of Set 3 | sorland\n",
      "Processing record for 30 of Set 3 | samarai\n",
      "Processing record for 31 of Set 3 | voyvozh\n",
      "Processing record for 32 of Set 3 | ankpa\n",
      "Processing record for 33 of Set 3 | iqaluit\n",
      "Processing record for 34 of Set 3 | kendari\n",
      "dipkarpaz not found. Skipping...\n",
      "Processing record for 35 of Set 3 | buala\n",
      "Processing record for 36 of Set 3 | kutum\n",
      "Processing record for 37 of Set 3 | cherskiy\n",
      "Processing record for 38 of Set 3 | enshi\n",
      "Processing record for 39 of Set 3 | hobart\n",
      "Processing record for 40 of Set 3 | alta floresta\n",
      "Processing record for 41 of Set 3 | whitehorse\n",
      "Processing record for 42 of Set 3 | luanda\n",
      "Processing record for 43 of Set 3 | petropavlovsk-kamchatskiy\n",
      "Processing record for 44 of Set 3 | kankakee\n",
      "Processing record for 45 of Set 3 | malakal\n",
      "Processing record for 46 of Set 3 | tynda\n",
      "halalo not found. Skipping...\n",
      "Processing record for 47 of Set 3 | yeppoon\n",
      "Processing record for 48 of Set 3 | helong\n",
      "Processing record for 49 of Set 3 | sar-e pul\n",
      "Processing record for 50 of Set 3 | saint-francois\n",
      "Processing record for 1 of Set 4 | arlit\n",
      "Processing record for 2 of Set 4 | kaeo\n",
      "Processing record for 3 of Set 4 | norman wells\n",
      "Processing record for 4 of Set 4 | cidreira\n",
      "Processing record for 5 of Set 4 | vaijapur\n",
      "Processing record for 6 of Set 4 | provideniya\n",
      "Processing record for 7 of Set 4 | salinopolis\n",
      "Processing record for 8 of Set 4 | adre\n",
      "Processing record for 9 of Set 4 | yulara\n",
      "Processing record for 10 of Set 4 | along\n",
      "Processing record for 11 of Set 4 | sistranda\n",
      "Processing record for 12 of Set 4 | umm kaddadah\n",
      "Processing record for 13 of Set 4 | portland\n",
      "Processing record for 14 of Set 4 | leningradskiy\n",
      "Processing record for 15 of Set 4 | tabuk\n",
      "Processing record for 16 of Set 4 | kashi\n",
      "Processing record for 17 of Set 4 | lata\n",
      "Processing record for 18 of Set 4 | san cristobal\n",
      "Processing record for 19 of Set 4 | chingirlau\n",
      "Processing record for 20 of Set 4 | wells\n"
     ]
    },
    {
     "name": "stdout",
     "output_type": "stream",
     "text": [
      "Processing record for 21 of Set 4 | san patricio\n",
      "mutsamudu not found. Skipping...\n",
      "Processing record for 22 of Set 4 | ballina\n",
      "Processing record for 23 of Set 4 | cayenne\n",
      "Processing record for 24 of Set 4 | nanortalik\n",
      "Processing record for 25 of Set 4 | zig\n",
      "Processing record for 26 of Set 4 | hami\n",
      "Processing record for 27 of Set 4 | oussouye\n",
      "warqla not found. Skipping...\n",
      "Processing record for 28 of Set 4 | coihaique\n",
      "Processing record for 29 of Set 4 | bilma\n",
      "Processing record for 30 of Set 4 | sur\n",
      "Processing record for 31 of Set 4 | mogadishu\n",
      "Processing record for 32 of Set 4 | morros\n",
      "Processing record for 33 of Set 4 | loknya\n",
      "Processing record for 34 of Set 4 | kodinsk\n",
      "Processing record for 35 of Set 4 | severo-kurilsk\n",
      "samusu not found. Skipping...\n",
      "Processing record for 36 of Set 4 | lasa\n",
      "Processing record for 37 of Set 4 | inhambane\n",
      "hayato not found. Skipping...\n",
      "Processing record for 38 of Set 4 | te anau\n",
      "Processing record for 39 of Set 4 | kavaratti\n",
      "Processing record for 40 of Set 4 | sharjah\n",
      "Processing record for 41 of Set 4 | clinton\n",
      "Processing record for 42 of Set 4 | agropoli\n",
      "Processing record for 43 of Set 4 | alyangula\n",
      "Processing record for 44 of Set 4 | zapolyarnyy\n",
      "grand centre not found. Skipping...\n",
      "Processing record for 45 of Set 4 | san antonio\n",
      "Processing record for 46 of Set 4 | esperance\n",
      "Processing record for 47 of Set 4 | itarema\n",
      "Processing record for 48 of Set 4 | grindavik\n",
      "Processing record for 49 of Set 4 | nuuk\n",
      "Processing record for 50 of Set 4 | seredka\n",
      "Processing record for 1 of Set 5 | san miguelito\n",
      "Processing record for 2 of Set 5 | herrin\n",
      "Processing record for 3 of Set 5 | maldonado\n",
      "Processing record for 4 of Set 5 | praia da vitoria\n",
      "Processing record for 5 of Set 5 | tokmak\n",
      "Processing record for 6 of Set 5 | mogok\n",
      "Processing record for 7 of Set 5 | krasnaya gora\n",
      "babanusah not found. Skipping...\n",
      "Processing record for 8 of Set 5 | regeneracao\n",
      "grand river south east not found. Skipping...\n",
      "Processing record for 9 of Set 5 | guerrero negro\n",
      "attawapiskat not found. Skipping...\n",
      "Processing record for 10 of Set 5 | ribeira grande\n",
      "Processing record for 11 of Set 5 | grand gaube\n",
      "Processing record for 12 of Set 5 | jinchang\n",
      "Processing record for 13 of Set 5 | luderitz\n",
      "fort saint john not found. Skipping...\n",
      "kuche not found. Skipping...\n",
      "Processing record for 14 of Set 5 | bethel\n",
      "Processing record for 15 of Set 5 | north bend\n",
      "Processing record for 16 of Set 5 | bairiki\n",
      "Processing record for 17 of Set 5 | tecoanapa\n",
      "Processing record for 18 of Set 5 | russell\n",
      "Processing record for 19 of Set 5 | port-gentil\n",
      "Processing record for 20 of Set 5 | turangi\n",
      "Processing record for 21 of Set 5 | xining\n",
      "Processing record for 22 of Set 5 | novyy urengoy\n",
      "sayanskiy not found. Skipping...\n",
      "Processing record for 23 of Set 5 | prestea\n",
      "Processing record for 24 of Set 5 | broken hill\n",
      "Processing record for 25 of Set 5 | nyurba\n",
      "Processing record for 26 of Set 5 | sobolevo\n",
      "Processing record for 27 of Set 5 | belaya gora\n",
      "Processing record for 28 of Set 5 | punakha\n",
      "Processing record for 29 of Set 5 | sakata\n",
      "Processing record for 30 of Set 5 | adelanto\n",
      "Processing record for 31 of Set 5 | ust-kulom\n",
      "Processing record for 32 of Set 5 | hegra\n",
      "Processing record for 33 of Set 5 | finspang\n",
      "Processing record for 34 of Set 5 | chapais\n",
      "Processing record for 35 of Set 5 | napier\n",
      "Processing record for 36 of Set 5 | vicksburg\n",
      "Processing record for 37 of Set 5 | maneromango\n",
      "Processing record for 38 of Set 5 | bluff\n",
      "Processing record for 39 of Set 5 | natal\n",
      "Processing record for 40 of Set 5 | erenhot\n",
      "Processing record for 41 of Set 5 | lorengau\n",
      "Processing record for 42 of Set 5 | baruun-urt\n",
      "Processing record for 43 of Set 5 | black river\n",
      "Processing record for 44 of Set 5 | khatanga\n",
      "Processing record for 45 of Set 5 | half moon bay\n",
      "Processing record for 46 of Set 5 | thompson\n",
      "Processing record for 47 of Set 5 | port elizabeth\n",
      "Processing record for 48 of Set 5 | ambilobe\n",
      "Processing record for 49 of Set 5 | saint-raphael\n",
      "Processing record for 50 of Set 5 | maningrida\n",
      "Processing record for 1 of Set 6 | paramonga\n",
      "Processing record for 2 of Set 6 | mehamn\n",
      "Processing record for 3 of Set 6 | san ramon\n",
      "Processing record for 4 of Set 6 | jibuti\n",
      "sentyabrskiy not found. Skipping...\n",
      "Processing record for 5 of Set 6 | vila velha\n",
      "zhanatas not found. Skipping...\n",
      "Processing record for 6 of Set 6 | ostrovnoy\n",
      "Processing record for 7 of Set 6 | norrtalje\n",
      "Processing record for 8 of Set 6 | sibolga\n",
      "Processing record for 9 of Set 6 | daru\n",
      "Processing record for 10 of Set 6 | asau\n",
      "Processing record for 11 of Set 6 | pevek\n",
      "Processing record for 12 of Set 6 | billings\n",
      "Processing record for 13 of Set 6 | pacific grove\n",
      "Processing record for 14 of Set 6 | nicoya\n",
      "Processing record for 15 of Set 6 | surab\n",
      "bursol not found. Skipping...\n",
      "Processing record for 16 of Set 6 | ulagan\n",
      "Processing record for 17 of Set 6 | elko\n",
      "dzhusaly not found. Skipping...\n",
      "Processing record for 18 of Set 6 | biltine\n",
      "Processing record for 19 of Set 6 | kingaroy\n",
      "Processing record for 20 of Set 6 | tual\n",
      "Processing record for 21 of Set 6 | anahuac\n",
      "Processing record for 22 of Set 6 | cabatuan\n",
      "Processing record for 23 of Set 6 | vyazma\n",
      "Processing record for 24 of Set 6 | turkistan\n",
      "Processing record for 25 of Set 6 | tambopata\n",
      "Processing record for 26 of Set 6 | neepawa\n",
      "gurskoye not found. Skipping...\n",
      "Processing record for 27 of Set 6 | port augusta\n",
      "Processing record for 28 of Set 6 | tarko-sale\n",
      "Processing record for 29 of Set 6 | rio grande\n",
      "Processing record for 30 of Set 6 | kargopol\n",
      "Processing record for 31 of Set 6 | vanimo\n",
      "Processing record for 32 of Set 6 | olinda\n",
      "Processing record for 33 of Set 6 | msowero\n",
      "Processing record for 34 of Set 6 | aleksandrov gay\n",
      "toliary not found. Skipping...\n",
      "Processing record for 35 of Set 6 | rudbar\n",
      "amderma not found. Skipping...\n",
      "Processing record for 36 of Set 6 | acucena\n",
      "Processing record for 37 of Set 6 | indramayu\n",
      "Processing record for 38 of Set 6 | nokaneng\n",
      "Processing record for 39 of Set 6 | wuwei\n",
      "Processing record for 40 of Set 6 | mackenzie\n",
      "Processing record for 41 of Set 6 | antalaha\n",
      "Processing record for 42 of Set 6 | alofi\n",
      "Processing record for 43 of Set 6 | sinnamary\n",
      "jomalig not found. Skipping...\n",
      "dolbeau not found. Skipping...\n",
      "Processing record for 44 of Set 6 | lucea\n",
      "Processing record for 45 of Set 6 | vanavara\n",
      "Processing record for 46 of Set 6 | miri\n",
      "Processing record for 47 of Set 6 | zaraza\n",
      "Processing record for 48 of Set 6 | bandarbeyla\n",
      "Processing record for 49 of Set 6 | necochea\n",
      "Processing record for 50 of Set 6 | hualmay\n",
      "Processing record for 1 of Set 7 | hohhot\n",
      "Processing record for 2 of Set 7 | cotonou\n",
      "Processing record for 3 of Set 7 | juba\n",
      "Processing record for 4 of Set 7 | puerto narino\n",
      "Processing record for 5 of Set 7 | jizan\n",
      "Processing record for 6 of Set 7 | mangrol\n",
      "Processing record for 7 of Set 7 | pervomayskoye\n",
      "Processing record for 8 of Set 7 | general pico\n",
      "Processing record for 9 of Set 7 | fenoarivo\n",
      "Processing record for 10 of Set 7 | naustdal\n",
      "Processing record for 11 of Set 7 | tura\n",
      "Processing record for 12 of Set 7 | victoria\n",
      "Processing record for 13 of Set 7 | vallenar\n",
      "Processing record for 14 of Set 7 | mazatlan\n",
      "Processing record for 15 of Set 7 | bubaque\n",
      "mullaitivu not found. Skipping...\n",
      "Processing record for 16 of Set 7 | manono\n",
      "Processing record for 17 of Set 7 | alenquer\n",
      "Processing record for 18 of Set 7 | coracora\n",
      "rawannawi not found. Skipping...\n",
      "Processing record for 19 of Set 7 | tutoia\n",
      "Processing record for 20 of Set 7 | jimo\n",
      "Processing record for 21 of Set 7 | murray bridge\n",
      "Processing record for 22 of Set 7 | placido de castro\n",
      "Processing record for 23 of Set 7 | qasigiannguit\n",
      "Processing record for 24 of Set 7 | port lincoln\n",
      "Processing record for 25 of Set 7 | kaitangata\n",
      "Processing record for 26 of Set 7 | san quintin\n",
      "Processing record for 27 of Set 7 | sinop\n",
      "zlatoustovsk not found. Skipping...\n",
      "Processing record for 28 of Set 7 | sao filipe\n",
      "artyk not found. Skipping...\n",
      "Processing record for 29 of Set 7 | vostok\n",
      "Processing record for 30 of Set 7 | zhigansk\n",
      "Processing record for 31 of Set 7 | santa barbara\n",
      "Processing record for 32 of Set 7 | longyearbyen\n",
      "Processing record for 33 of Set 7 | cockburn town\n",
      "Processing record for 34 of Set 7 | bodden town\n",
      "Processing record for 35 of Set 7 | igrim\n",
      "marcona not found. Skipping...\n",
      "Processing record for 36 of Set 7 | fairbanks\n"
     ]
    },
    {
     "name": "stdout",
     "output_type": "stream",
     "text": [
      "Processing record for 37 of Set 7 | tokonou\n",
      "Processing record for 38 of Set 7 | kruisfontein\n",
      "Processing record for 39 of Set 7 | aklavik\n",
      "Processing record for 40 of Set 7 | nome\n",
      "Processing record for 41 of Set 7 | avsyunino\n",
      "Processing record for 42 of Set 7 | raga\n",
      "nguiu not found. Skipping...\n",
      "Processing record for 43 of Set 7 | kandla\n",
      "Processing record for 44 of Set 7 | karema\n",
      "Processing record for 45 of Set 7 | santa cruz cabralia\n",
      "Processing record for 46 of Set 7 | quatre cocos\n",
      "Processing record for 47 of Set 7 | xinan\n",
      "Processing record for 48 of Set 7 | waipawa\n",
      "Processing record for 49 of Set 7 | grand-lahou\n",
      "Processing record for 50 of Set 7 | sussex\n",
      "Processing record for 1 of Set 8 | santa isabel do rio negro\n",
      "Processing record for 2 of Set 8 | kismayo\n",
      "Processing record for 3 of Set 8 | phangnga\n",
      "Processing record for 4 of Set 8 | shelburne\n",
      "Processing record for 5 of Set 8 | aitape\n",
      "Processing record for 6 of Set 8 | los llanos de aridane\n",
      "Processing record for 7 of Set 8 | huangmei\n",
      "Processing record for 8 of Set 8 | cabinda\n",
      "Processing record for 9 of Set 8 | port macquarie\n",
      "Processing record for 10 of Set 8 | nsanje\n",
      "Processing record for 11 of Set 8 | la asuncion\n",
      "Processing record for 12 of Set 8 | general cepeda\n",
      "Processing record for 13 of Set 8 | kayerkan\n",
      "Processing record for 14 of Set 8 | xilopolis\n",
      "Processing record for 15 of Set 8 | krasnoselkup\n",
      "Processing record for 16 of Set 8 | comodoro rivadavia\n",
      "Processing record for 17 of Set 8 | najran\n",
      "Processing record for 18 of Set 8 | dosso\n",
      "Processing record for 19 of Set 8 | mandal\n",
      "Processing record for 20 of Set 8 | suixi\n",
      "Processing record for 21 of Set 8 | terrace\n",
      "lolua not found. Skipping...\n",
      "chore not found. Skipping...\n",
      "Processing record for 22 of Set 8 | oksbol\n",
      "Processing record for 23 of Set 8 | manokwari\n",
      "Processing record for 24 of Set 8 | manzanillo\n",
      "Processing record for 25 of Set 8 | tagajo\n",
      "Processing record for 26 of Set 8 | la ligua\n",
      "Processing record for 27 of Set 8 | cadillac\n",
      "Processing record for 28 of Set 8 | hurghada\n",
      "Processing record for 29 of Set 8 | sahuaripa\n",
      "Processing record for 30 of Set 8 | behbahan\n",
      "Processing record for 31 of Set 8 | ternate\n",
      "Processing record for 32 of Set 8 | clyde river\n",
      "Processing record for 33 of Set 8 | la union\n",
      "Processing record for 34 of Set 8 | mildura\n",
      "Processing record for 35 of Set 8 | tilichiki\n",
      "Processing record for 36 of Set 8 | moranbah\n",
      "Processing record for 37 of Set 8 | el vigia\n",
      "Processing record for 38 of Set 8 | pimentel\n",
      "Processing record for 39 of Set 8 | shimoda\n",
      "Processing record for 40 of Set 8 | qaqortoq\n",
      "Processing record for 41 of Set 8 | olafsvik\n",
      "palabuhanratu not found. Skipping...\n",
      "Processing record for 42 of Set 8 | mount isa\n",
      "Processing record for 43 of Set 8 | ornskoldsvik\n",
      "Processing record for 44 of Set 8 | magadan\n",
      "Processing record for 45 of Set 8 | sabang\n",
      "Processing record for 46 of Set 8 | polunochnoye\n",
      "Processing record for 47 of Set 8 | sambava\n",
      "Processing record for 48 of Set 8 | arman\n",
      "Processing record for 49 of Set 8 | hamilton\n",
      "Processing record for 50 of Set 8 | kloulklubed\n",
      "Processing record for 1 of Set 9 | uige\n",
      "Processing record for 2 of Set 9 | reconquista\n",
      "Processing record for 3 of Set 9 | salinas\n",
      "Processing record for 4 of Set 9 | ushtobe\n",
      "Processing record for 5 of Set 9 | ewa beach\n",
      "Processing record for 6 of Set 9 | constitucion\n",
      "Processing record for 7 of Set 9 | salalah\n",
      "Processing record for 8 of Set 9 | claveria\n",
      "Processing record for 9 of Set 9 | roald\n",
      "Processing record for 10 of Set 9 | orlik\n",
      "cockburn harbour not found. Skipping...\n",
      "Processing record for 11 of Set 9 | moquegua\n",
      "Processing record for 12 of Set 9 | umm bab\n",
      "Processing record for 13 of Set 9 | la ronge\n",
      "Processing record for 14 of Set 9 | toamasina\n",
      "Processing record for 15 of Set 9 | cam ranh\n",
      "Processing record for 16 of Set 9 | kijang\n",
      "Processing record for 17 of Set 9 | manbij\n",
      "Processing record for 18 of Set 9 | kampene\n",
      "Processing record for 19 of Set 9 | gizo\n",
      "Processing record for 20 of Set 9 | sri aman\n",
      "Processing record for 21 of Set 9 | chikhli\n",
      "Processing record for 22 of Set 9 | calvinia\n",
      "Processing record for 23 of Set 9 | conde\n",
      "Processing record for 24 of Set 9 | thinadhoo\n",
      "Processing record for 25 of Set 9 | ulaangom\n",
      "Processing record for 26 of Set 9 | ban nahin\n",
      "Processing record for 27 of Set 9 | bozeman\n",
      "Processing record for 28 of Set 9 | mackay\n",
      "Processing record for 29 of Set 9 | truckee\n",
      "Processing record for 30 of Set 9 | baghmara\n",
      "Processing record for 31 of Set 9 | plastun\n",
      "Processing record for 32 of Set 9 | jining\n",
      "Processing record for 33 of Set 9 | kot khai\n",
      "Processing record for 34 of Set 9 | namatanai\n",
      "Processing record for 35 of Set 9 | khandyga\n",
      "Processing record for 36 of Set 9 | le vauclin\n",
      "Processing record for 37 of Set 9 | shingu\n",
      "Processing record for 38 of Set 9 | lompoc\n",
      "tsihombe not found. Skipping...\n",
      "Processing record for 39 of Set 9 | devonport\n",
      "Processing record for 40 of Set 9 | mundra\n",
      "Processing record for 41 of Set 9 | grafton\n",
      "Processing record for 42 of Set 9 | moisei\n",
      "Processing record for 43 of Set 9 | vao\n",
      "Processing record for 44 of Set 9 | poronaysk\n",
      "Processing record for 45 of Set 9 | wanning\n",
      "Processing record for 46 of Set 9 | havelock\n",
      "tlaxiaco not found. Skipping...\n",
      "Processing record for 47 of Set 9 | dargaville\n",
      "Processing record for 48 of Set 9 | neiafu\n",
      "Processing record for 49 of Set 9 | port hawkesbury\n",
      "Processing record for 50 of Set 9 | forbes\n",
      "Processing record for 1 of Set 10 | lima\n",
      "Processing record for 2 of Set 10 | semporna\n",
      "Processing record for 3 of Set 10 | halifax\n",
      "Processing record for 4 of Set 10 | mokrousovo\n",
      "Processing record for 5 of Set 10 | houma\n",
      "Processing record for 6 of Set 10 | seydi\n",
      "Processing record for 7 of Set 10 | horodnya\n",
      "Processing record for 8 of Set 10 | dzilam gonzalez\n",
      "Processing record for 9 of Set 10 | ancud\n",
      "Processing record for 10 of Set 10 | saint-augustin\n",
      "Processing record for 11 of Set 10 | kalmunai\n",
      "Processing record for 12 of Set 10 | nhulunbuy\n",
      "Processing record for 13 of Set 10 | ugoofaaru\n",
      "Processing record for 14 of Set 10 | touros\n",
      "Processing record for 15 of Set 10 | bellavista\n",
      "Processing record for 16 of Set 10 | lagoa\n",
      "Processing record for 17 of Set 10 | sisimiut\n",
      "Processing record for 18 of Set 10 | oruro\n",
      "Processing record for 19 of Set 10 | lagunas\n",
      "Processing record for 20 of Set 10 | kudahuvadhoo\n",
      "Processing record for 21 of Set 10 | moose factory\n",
      "Processing record for 22 of Set 10 | leh\n",
      "Processing record for 23 of Set 10 | kuruman\n",
      "Processing record for 24 of Set 10 | pitimbu\n",
      "Processing record for 25 of Set 10 | severodvinsk\n",
      "Processing record for 26 of Set 10 | bairnsdale\n",
      "Processing record for 27 of Set 10 | denpasar\n",
      "Processing record for 28 of Set 10 | mpika\n",
      "Processing record for 29 of Set 10 | talakan\n",
      "Processing record for 30 of Set 10 | ajdabiya\n",
      "Processing record for 31 of Set 10 | esna\n",
      "Processing record for 32 of Set 10 | vila do maio\n",
      "Processing record for 33 of Set 10 | innisfail\n",
      "Processing record for 34 of Set 10 | torres\n",
      "Processing record for 35 of Set 10 | ulladulla\n",
      "Processing record for 36 of Set 10 | saint-georges\n",
      "Processing record for 37 of Set 10 | gunjur\n",
      "Processing record for 38 of Set 10 | burnie\n",
      "Processing record for 39 of Set 10 | yelizovo\n",
      "Processing record for 40 of Set 10 | cruz alta\n",
      "Processing record for 41 of Set 10 | bandar-e lengeh\n",
      "Processing record for 42 of Set 10 | pierre\n",
      "Processing record for 43 of Set 10 | merrill\n",
      "Processing record for 44 of Set 10 | kurchum\n",
      "Processing record for 45 of Set 10 | mandera\n",
      "Processing record for 46 of Set 10 | three hills\n",
      "Processing record for 47 of Set 10 | barcelos\n",
      "Processing record for 48 of Set 10 | barsovo\n",
      "Processing record for 49 of Set 10 | paamiut\n",
      "Processing record for 50 of Set 10 | ozinki\n",
      "Processing record for 1 of Set 11 | assiniboia\n",
      "Processing record for 2 of Set 11 | zlobin\n",
      "Processing record for 3 of Set 11 | panguna\n",
      "Processing record for 4 of Set 11 | de-kastri\n",
      "Processing record for 5 of Set 11 | juneau\n",
      "Processing record for 6 of Set 11 | great yarmouth\n",
      "Processing record for 7 of Set 11 | petrozavodsk\n",
      "Processing record for 8 of Set 11 | xichang\n",
      "Processing record for 9 of Set 11 | colares\n",
      "Processing record for 10 of Set 11 | ondjiva\n",
      "Processing record for 11 of Set 11 | kostomuksha\n",
      "Processing record for 12 of Set 11 | san jose\n"
     ]
    },
    {
     "name": "stdout",
     "output_type": "stream",
     "text": [
      "Processing record for 13 of Set 11 | gombong\n",
      "Processing record for 14 of Set 11 | mandan\n",
      "Processing record for 15 of Set 11 | asyut\n",
      "karaul not found. Skipping...\n",
      "karkaralinsk not found. Skipping...\n",
      "Processing record for 16 of Set 11 | craig\n",
      "Processing record for 17 of Set 11 | razole\n",
      "Processing record for 18 of Set 11 | westport\n",
      "Processing record for 19 of Set 11 | pandan\n",
      "Processing record for 20 of Set 11 | bemidji\n",
      "Processing record for 21 of Set 11 | praia\n",
      "Processing record for 22 of Set 11 | homer\n",
      "Processing record for 23 of Set 11 | heihe\n",
      "Processing record for 24 of Set 11 | beloha\n",
      "Processing record for 25 of Set 11 | ambon\n",
      "Processing record for 26 of Set 11 | adrar\n",
      "Processing record for 27 of Set 11 | ligayan\n",
      "Processing record for 28 of Set 11 | otaru\n",
      "Processing record for 29 of Set 11 | kanturk\n",
      "Processing record for 30 of Set 11 | penzance\n",
      "Processing record for 31 of Set 11 | nelson bay\n",
      "beypur not found. Skipping...\n",
      "Processing record for 32 of Set 11 | bathurst\n",
      "Processing record for 33 of Set 11 | madaoua\n",
      "Processing record for 34 of Set 11 | haines junction\n",
      "Processing record for 35 of Set 11 | jumla\n",
      "Processing record for 36 of Set 11 | merauke\n",
      "Processing record for 37 of Set 11 | goiatuba\n",
      "Processing record for 38 of Set 11 | port hedland\n",
      "Processing record for 39 of Set 11 | nago\n",
      "yirol not found. Skipping...\n",
      "Processing record for 40 of Set 11 | mashhad\n",
      "Processing record for 41 of Set 11 | tasiilaq\n",
      "Processing record for 42 of Set 11 | vrangel\n",
      "Processing record for 43 of Set 11 | lunglei\n",
      "Processing record for 44 of Set 11 | maumere\n",
      "Processing record for 45 of Set 11 | soro\n",
      "Processing record for 46 of Set 11 | ust-karsk\n",
      "Processing record for 47 of Set 11 | san carlos\n",
      "--------------------------\n",
      "Data Retrieval Complete\n",
      "--------------------------\n"
     ]
    }
   ],
   "source": [
    "# base url for api call\n",
    "base_url = \"http://api.openweathermap.org/data/2.5/weather?units=Imperial&APPID=\" + api_key \n",
    "\n",
    "# store data for input into data frame later\n",
    "city_data = []\n",
    "\n",
    "# set initial counts to track records and sets during processing\n",
    "record_num = 0\n",
    "set_num = 1\n",
    "\n",
    "# print statement for beginning of data retrieval  \n",
    "print(\"Beginning Data Retrieval\")\n",
    "print(\"------------------------\")\n",
    "\n",
    "for city in cities:\n",
    "    city_url = base_url + \"&q=\" + city\n",
    "    \n",
    "    \n",
    "    try:\n",
    "        # pull response of given city\n",
    "        response = requests.get(city_url).json()\n",
    "        \n",
    "        # locate data for each attribute in the response\n",
    "        lat = response['coord']['lat']\n",
    "        lon = response['coord']['lon']\n",
    "        max_temp = response['main']['temp_max']\n",
    "        humidity = response['main']['humidity']\n",
    "        cloudiness = response['clouds']['all']\n",
    "        wind_speed = response['wind']['speed']\n",
    "        country = response['sys']['country']\n",
    "        date = response['dt']\n",
    "        \n",
    "        # append data pulled from response into city_data list\n",
    "        city_data.append({\"City\" : city,\n",
    "                         \"Lat\" : lat,\n",
    "                         \"Lon\" : lon,\n",
    "                         \"Max Temp\" : max_temp,\n",
    "                         \"Humidity\" : humidity,\n",
    "                         \"Cloudiness\" : cloudiness,\n",
    "                         \"Wind Speed\" : wind_speed,\n",
    "                         \"Country\" : country,\n",
    "                         \"Date\" : date})\n",
    "           \n",
    "        # increase the record count by 1\n",
    "        record_num += 1\n",
    "        \n",
    "        # print statement to track processing\n",
    "        print(f'Processing Record {record_num} of Set {set_num} | {city}')\n",
    "    \n",
    "    # if city is not found, print statement below and continue processing\n",
    "    except:\n",
    "        print(f'{city} not found. Skipping...')\n",
    "        \n",
    "        \n",
    "    # if statement to handle the number of sets\n",
    "    if record_num == 50:\n",
    "        set_num += 1\n",
    "        record_num = 0\n",
    "        \n",
    "# indicate that data loading is complete\n",
    "print(\"--------------------------\")\n",
    "print(f'Data Retrieval Complete')\n",
    "print(\"--------------------------\")\n",
    "\n",
    "\n",
    "        \n"
   ]
  },
  {
   "cell_type": "markdown",
   "metadata": {},
   "source": [
    "### Convert Raw Data to DataFrame\n",
    "* Export the city data into a .csv.\n",
    "* Display the DataFrame"
   ]
  },
  {
   "cell_type": "code",
   "execution_count": 45,
   "metadata": {},
   "outputs": [
    {
     "data": {
      "text/html": [
       "<div>\n",
       "<style scoped>\n",
       "    .dataframe tbody tr th:only-of-type {\n",
       "        vertical-align: middle;\n",
       "    }\n",
       "\n",
       "    .dataframe tbody tr th {\n",
       "        vertical-align: top;\n",
       "    }\n",
       "\n",
       "    .dataframe thead th {\n",
       "        text-align: right;\n",
       "    }\n",
       "</style>\n",
       "<table border=\"1\" class=\"dataframe\">\n",
       "  <thead>\n",
       "    <tr style=\"text-align: right;\">\n",
       "      <th></th>\n",
       "      <th>City</th>\n",
       "      <th>Lat</th>\n",
       "      <th>Lon</th>\n",
       "      <th>Max Temp</th>\n",
       "      <th>Humidity</th>\n",
       "      <th>Cloudiness</th>\n",
       "      <th>Wind Speed</th>\n",
       "      <th>Country</th>\n",
       "      <th>Date</th>\n",
       "    </tr>\n",
       "  </thead>\n",
       "  <tbody>\n",
       "    <tr>\n",
       "      <th>0</th>\n",
       "      <td>narsaq</td>\n",
       "      <td>60.9167</td>\n",
       "      <td>-46.0500</td>\n",
       "      <td>32.22</td>\n",
       "      <td>36</td>\n",
       "      <td>2</td>\n",
       "      <td>7.58</td>\n",
       "      <td>GL</td>\n",
       "      <td>1634563253</td>\n",
       "    </tr>\n",
       "    <tr>\n",
       "      <th>1</th>\n",
       "      <td>mataura</td>\n",
       "      <td>-46.1927</td>\n",
       "      <td>168.8643</td>\n",
       "      <td>52.70</td>\n",
       "      <td>60</td>\n",
       "      <td>99</td>\n",
       "      <td>9.35</td>\n",
       "      <td>NZ</td>\n",
       "      <td>1634563254</td>\n",
       "    </tr>\n",
       "    <tr>\n",
       "      <th>2</th>\n",
       "      <td>georgetown</td>\n",
       "      <td>5.4112</td>\n",
       "      <td>100.3354</td>\n",
       "      <td>84.15</td>\n",
       "      <td>76</td>\n",
       "      <td>20</td>\n",
       "      <td>0.00</td>\n",
       "      <td>MY</td>\n",
       "      <td>1634563254</td>\n",
       "    </tr>\n",
       "    <tr>\n",
       "      <th>3</th>\n",
       "      <td>listvyanskiy</td>\n",
       "      <td>54.4399</td>\n",
       "      <td>83.4984</td>\n",
       "      <td>45.19</td>\n",
       "      <td>76</td>\n",
       "      <td>5</td>\n",
       "      <td>6.98</td>\n",
       "      <td>RU</td>\n",
       "      <td>1634563255</td>\n",
       "    </tr>\n",
       "    <tr>\n",
       "      <th>4</th>\n",
       "      <td>mar del plata</td>\n",
       "      <td>-38.0023</td>\n",
       "      <td>-57.5575</td>\n",
       "      <td>57.99</td>\n",
       "      <td>27</td>\n",
       "      <td>0</td>\n",
       "      <td>8.01</td>\n",
       "      <td>AR</td>\n",
       "      <td>1634563108</td>\n",
       "    </tr>\n",
       "  </tbody>\n",
       "</table>\n",
       "</div>"
      ],
      "text/plain": [
       "            City      Lat       Lon  Max Temp  Humidity  Cloudiness  \\\n",
       "0         narsaq  60.9167  -46.0500     32.22        36           2   \n",
       "1        mataura -46.1927  168.8643     52.70        60          99   \n",
       "2     georgetown   5.4112  100.3354     84.15        76          20   \n",
       "3   listvyanskiy  54.4399   83.4984     45.19        76           5   \n",
       "4  mar del plata -38.0023  -57.5575     57.99        27           0   \n",
       "\n",
       "   Wind Speed Country        Date  \n",
       "0        7.58      GL  1634563253  \n",
       "1        9.35      NZ  1634563254  \n",
       "2        0.00      MY  1634563254  \n",
       "3        6.98      RU  1634563255  \n",
       "4        8.01      AR  1634563108  "
      ]
     },
     "execution_count": 45,
     "metadata": {},
     "output_type": "execute_result"
    }
   ],
   "source": [
    "# create a data frame using city_data from above\n",
    "city_data_df = pd.DataFrame(city_data)\n",
    "\n",
    "# output data to csv\n",
    "city_data_df.to_csv('city_data.csv', index=False, header=True)\n",
    "\n",
    "# show data frame\n",
    "city_data_df.head()"
   ]
  },
  {
   "cell_type": "code",
   "execution_count": 10,
   "metadata": {},
   "outputs": [
    {
     "data": {
      "text/html": [
       "<div>\n",
       "<style scoped>\n",
       "    .dataframe tbody tr th:only-of-type {\n",
       "        vertical-align: middle;\n",
       "    }\n",
       "\n",
       "    .dataframe tbody tr th {\n",
       "        vertical-align: top;\n",
       "    }\n",
       "\n",
       "    .dataframe thead th {\n",
       "        text-align: right;\n",
       "    }\n",
       "</style>\n",
       "<table border=\"1\" class=\"dataframe\">\n",
       "  <thead>\n",
       "    <tr style=\"text-align: right;\">\n",
       "      <th></th>\n",
       "      <th>Lat</th>\n",
       "      <th>Lon</th>\n",
       "      <th>Max Temp</th>\n",
       "      <th>Humidity</th>\n",
       "      <th>Cloudiness</th>\n",
       "      <th>Wind Speed</th>\n",
       "      <th>Date</th>\n",
       "    </tr>\n",
       "  </thead>\n",
       "  <tbody>\n",
       "    <tr>\n",
       "      <th>count</th>\n",
       "      <td>547.000000</td>\n",
       "      <td>547.000000</td>\n",
       "      <td>547.000000</td>\n",
       "      <td>547.000000</td>\n",
       "      <td>547.000000</td>\n",
       "      <td>547.000000</td>\n",
       "      <td>5.470000e+02</td>\n",
       "    </tr>\n",
       "    <tr>\n",
       "      <th>mean</th>\n",
       "      <td>19.513647</td>\n",
       "      <td>20.572145</td>\n",
       "      <td>61.739872</td>\n",
       "      <td>68.848263</td>\n",
       "      <td>53.718464</td>\n",
       "      <td>8.267934</td>\n",
       "      <td>1.634563e+09</td>\n",
       "    </tr>\n",
       "    <tr>\n",
       "      <th>std</th>\n",
       "      <td>33.465802</td>\n",
       "      <td>93.684880</td>\n",
       "      <td>21.168121</td>\n",
       "      <td>22.622495</td>\n",
       "      <td>40.433472</td>\n",
       "      <td>5.863465</td>\n",
       "      <td>7.334069e+01</td>\n",
       "    </tr>\n",
       "    <tr>\n",
       "      <th>min</th>\n",
       "      <td>-54.800000</td>\n",
       "      <td>-175.200000</td>\n",
       "      <td>-13.410000</td>\n",
       "      <td>4.000000</td>\n",
       "      <td>0.000000</td>\n",
       "      <td>0.000000</td>\n",
       "      <td>1.634563e+09</td>\n",
       "    </tr>\n",
       "    <tr>\n",
       "      <th>25%</th>\n",
       "      <td>-7.808800</td>\n",
       "      <td>-66.047300</td>\n",
       "      <td>47.985000</td>\n",
       "      <td>57.000000</td>\n",
       "      <td>10.000000</td>\n",
       "      <td>3.990000</td>\n",
       "      <td>1.634563e+09</td>\n",
       "    </tr>\n",
       "    <tr>\n",
       "      <th>50%</th>\n",
       "      <td>22.850000</td>\n",
       "      <td>28.185800</td>\n",
       "      <td>63.720000</td>\n",
       "      <td>74.000000</td>\n",
       "      <td>61.000000</td>\n",
       "      <td>7.160000</td>\n",
       "      <td>1.634563e+09</td>\n",
       "    </tr>\n",
       "    <tr>\n",
       "      <th>75%</th>\n",
       "      <td>48.702700</td>\n",
       "      <td>103.088050</td>\n",
       "      <td>79.885000</td>\n",
       "      <td>86.000000</td>\n",
       "      <td>98.000000</td>\n",
       "      <td>11.465000</td>\n",
       "      <td>1.634563e+09</td>\n",
       "    </tr>\n",
       "    <tr>\n",
       "      <th>max</th>\n",
       "      <td>78.218600</td>\n",
       "      <td>179.316700</td>\n",
       "      <td>102.270000</td>\n",
       "      <td>100.000000</td>\n",
       "      <td>100.000000</td>\n",
       "      <td>41.110000</td>\n",
       "      <td>1.634563e+09</td>\n",
       "    </tr>\n",
       "  </tbody>\n",
       "</table>\n",
       "</div>"
      ],
      "text/plain": [
       "              Lat         Lon    Max Temp    Humidity  Cloudiness  Wind Speed  \\\n",
       "count  547.000000  547.000000  547.000000  547.000000  547.000000  547.000000   \n",
       "mean    19.513647   20.572145   61.739872   68.848263   53.718464    8.267934   \n",
       "std     33.465802   93.684880   21.168121   22.622495   40.433472    5.863465   \n",
       "min    -54.800000 -175.200000  -13.410000    4.000000    0.000000    0.000000   \n",
       "25%     -7.808800  -66.047300   47.985000   57.000000   10.000000    3.990000   \n",
       "50%     22.850000   28.185800   63.720000   74.000000   61.000000    7.160000   \n",
       "75%     48.702700  103.088050   79.885000   86.000000   98.000000   11.465000   \n",
       "max     78.218600  179.316700  102.270000  100.000000  100.000000   41.110000   \n",
       "\n",
       "               Date  \n",
       "count  5.470000e+02  \n",
       "mean   1.634563e+09  \n",
       "std    7.334069e+01  \n",
       "min    1.634563e+09  \n",
       "25%    1.634563e+09  \n",
       "50%    1.634563e+09  \n",
       "75%    1.634563e+09  \n",
       "max    1.634563e+09  "
      ]
     },
     "execution_count": 10,
     "metadata": {},
     "output_type": "execute_result"
    }
   ],
   "source": [
    "# display the descriptive statisitics of the city_data_df\n",
    "city_data_df.describe()"
   ]
  },
  {
   "cell_type": "markdown",
   "metadata": {},
   "source": [
    "## Inspect the data and remove the cities where the humidity > 100%.\n",
    "----\n",
    "Skip this step if there are no cities that have humidity > 100%. "
   ]
  },
  {
   "cell_type": "code",
   "execution_count": 11,
   "metadata": {},
   "outputs": [
    {
     "data": {
      "text/html": [
       "<div>\n",
       "<style scoped>\n",
       "    .dataframe tbody tr th:only-of-type {\n",
       "        vertical-align: middle;\n",
       "    }\n",
       "\n",
       "    .dataframe tbody tr th {\n",
       "        vertical-align: top;\n",
       "    }\n",
       "\n",
       "    .dataframe thead th {\n",
       "        text-align: right;\n",
       "    }\n",
       "</style>\n",
       "<table border=\"1\" class=\"dataframe\">\n",
       "  <thead>\n",
       "    <tr style=\"text-align: right;\">\n",
       "      <th></th>\n",
       "      <th>City</th>\n",
       "      <th>Lat</th>\n",
       "      <th>Lon</th>\n",
       "      <th>Max Temp</th>\n",
       "      <th>Humidity</th>\n",
       "      <th>Cloudiness</th>\n",
       "      <th>Wind Speed</th>\n",
       "      <th>Country</th>\n",
       "      <th>Date</th>\n",
       "    </tr>\n",
       "  </thead>\n",
       "  <tbody>\n",
       "  </tbody>\n",
       "</table>\n",
       "</div>"
      ],
      "text/plain": [
       "Empty DataFrame\n",
       "Columns: [City, Lat, Lon, Max Temp, Humidity, Cloudiness, Wind Speed, Country, Date]\n",
       "Index: []"
      ]
     },
     "execution_count": 11,
     "metadata": {},
     "output_type": "execute_result"
    }
   ],
   "source": [
    "# check to see if there are any cities with humidity > 100%\n",
    "high_humid_df = city_data_df[(city_data_df['Humidity'] > 100)]\n",
    "high_humid_df"
   ]
  },
  {
   "cell_type": "code",
   "execution_count": 12,
   "metadata": {},
   "outputs": [
    {
     "data": {
      "text/plain": [
       "Int64Index([], dtype='int64')"
      ]
     },
     "execution_count": 12,
     "metadata": {},
     "output_type": "execute_result"
    }
   ],
   "source": [
    "#  Get the indices of cities that have humidity over 100%.\n",
    "high_humid_df.index"
   ]
  },
  {
   "cell_type": "code",
   "execution_count": 15,
   "metadata": {},
   "outputs": [],
   "source": [
    "# Make a new DataFrame equal to the city data to drop all humidity outliers by index.\n",
    "# Passing \"inplace=False\" will make a copy of the city_data DataFrame, which we call \"clean_city_data\".\n"
   ]
  },
  {
   "cell_type": "markdown",
   "metadata": {},
   "source": [
    "## Plotting the Data\n",
    "* Use proper labeling of the plots using plot titles (including date of analysis) and axes labels.\n",
    "* Save the plotted figures as .pngs."
   ]
  },
  {
   "cell_type": "markdown",
   "metadata": {},
   "source": [
    "## Latitude vs. Temperature Plot"
   ]
  },
  {
   "cell_type": "code",
   "execution_count": 18,
   "metadata": {
    "scrolled": true
   },
   "outputs": [
    {
     "data": {
      "image/png": "[encoded data removed]",
      "text/plain": [
       "<Figure size 432x288 with 1 Axes>"
      ]
     },
     "metadata": {
      "needs_background": "light"
     },
     "output_type": "display_data"
    },
    {
     "data": {
      "text/plain": [
       "<Figure size 432x288 with 0 Axes>"
      ]
     },
     "metadata": {},
     "output_type": "display_data"
    }
   ],
   "source": [
    "# construct scatter plot for lat vs. max temp\n",
    "plt.scatter(city_data_df['Lat'], city_data_df['Max Temp'], marker = 'o', facecolors = 'blue', edgecolors = 'black')\n",
    "\n",
    "# give graph labels and grid\n",
    "plt.title(f'City Latitude vs. Max Temperature {time.strftime(\"%m/%d/%Y\")}')\n",
    "plt.xlabel('Latitude')\n",
    "plt.ylabel('Max Temperature (F)')\n",
    "plt.grid(True)\n",
    "\n",
    "# show the plot\n",
    "plt.show()\n",
    "\n",
    "# save the plot as png\n",
    "plt.savefig(\"City Latitude vs. Max Temperature.png\")"
   ]
  },
  {
   "cell_type": "markdown",
   "metadata": {},
   "source": [
    "### Latitude vs. Temperature Scatterplot Observations\n",
    "This scatter plot maps over 500 randomly selected cities' latitudes against their max temperatures. The curve of the plot demonstrates that cities closest to the equator will have greater max temperatures, and they lower on either side of the equator as you move further away in latitude. In addition, the data was pulled mid-October, which is summer in the southern hemisphere, so those temperatures will be higher on average than those of the northern hemisphere, where it is fall/winter."
   ]
  },
  {
   "cell_type": "markdown",
   "metadata": {},
   "source": [
    "## Latitude vs. Humidity Plot"
   ]
  },
  {
   "cell_type": "code",
   "execution_count": 19,
   "metadata": {},
   "outputs": [
    {
     "data": {
      "image/png": "[encoded data removed]",
      "text/plain": [
       "<Figure size 432x288 with 1 Axes>"
      ]
     },
     "metadata": {
      "needs_background": "light"
     },
     "output_type": "display_data"
    },
    {
     "data": {
      "text/plain": [
       "<Figure size 432x288 with 0 Axes>"
      ]
     },
     "metadata": {},
     "output_type": "display_data"
    }
   ],
   "source": [
    "# construct scatter plot for lat vs. humidity\n",
    "plt.scatter(city_data_df['Lat'], city_data_df['Humidity'], marker = 'o', facecolors = 'blue', edgecolors = 'black')\n",
    "\n",
    "# give graph labels and grid\n",
    "plt.title(f'City Latitude vs. Humidity {time.strftime(\"%m/%d/%Y\")}')\n",
    "plt.xlabel('Latitude')\n",
    "plt.ylabel('Humidity')\n",
    "plt.grid(True)\n",
    "\n",
    "# show the plot\n",
    "plt.show()\n",
    "\n",
    "# save the plot as png\n",
    "plt.savefig(\"City Latitude vs. Humidity.png\")"
   ]
  },
  {
   "cell_type": "markdown",
   "metadata": {},
   "source": [
    "### Latitude vs. Humidity Scatterplot Observations\n",
    "This scatter plot maps over 500 randomly selected cities' latitudes against their humidity. This plot shows no substantial correlation between a city's latitude and it's humidity on a particular day."
   ]
  },
  {
   "cell_type": "markdown",
   "metadata": {},
   "source": [
    "## Latitude vs. Cloudiness Plot"
   ]
  },
  {
   "cell_type": "code",
   "execution_count": 20,
   "metadata": {},
   "outputs": [
    {
     "data": {
      "image/png": "[encoded data removed]",
      "text/plain": [
       "<Figure size 432x288 with 1 Axes>"
      ]
     },
     "metadata": {
      "needs_background": "light"
     },
     "output_type": "display_data"
    },
    {
     "data": {
      "text/plain": [
       "<Figure size 432x288 with 0 Axes>"
      ]
     },
     "metadata": {},
     "output_type": "display_data"
    }
   ],
   "source": [
    "# construct scatter plot for lat vs. cloudiness\n",
    "plt.scatter(city_data_df['Lat'], city_data_df['Cloudiness'], marker = 'o', facecolors = 'blue', edgecolors = 'black')\n",
    "\n",
    "# give graph labels and grid\n",
    "plt.title(f'City Latitude vs. Cloudiness {time.strftime(\"%m/%d/%Y\")}')\n",
    "plt.xlabel('Latitude')\n",
    "plt.ylabel('Cloudiness')\n",
    "plt.grid(True)\n",
    "\n",
    "# show the plot\n",
    "plt.show()\n",
    "\n",
    "# save the plot as png\n",
    "plt.savefig(\"City Latitude vs. Cloudiness.png\")"
   ]
  },
  {
   "cell_type": "markdown",
   "metadata": {},
   "source": [
    "### Latitude vs. Cloudiness Scatterplot Observations\n",
    "This scatter plot maps over 500 randomly selected cities' latitudes against their cloudiness. This plot shows no substantial correlation between a city's latitude and it's cloudiness on a particular day."
   ]
  },
  {
   "cell_type": "markdown",
   "metadata": {},
   "source": [
    "## Latitude vs. Wind Speed Plot"
   ]
  },
  {
   "cell_type": "code",
   "execution_count": 21,
   "metadata": {},
   "outputs": [
    {
     "data": {
      "image/png": "[encoded data removed]",
      "text/plain": [
       "<Figure size 432x288 with 1 Axes>"
      ]
     },
     "metadata": {
      "needs_background": "light"
     },
     "output_type": "display_data"
    },
    {
     "data": {
      "text/plain": [
       "<Figure size 432x288 with 0 Axes>"
      ]
     },
     "metadata": {},
     "output_type": "display_data"
    }
   ],
   "source": [
    "# construct scatter plot for lat vs. wind speed\n",
    "plt.scatter(city_data_df['Lat'], city_data_df['Wind Speed'], marker = 'o', facecolors = 'blue', edgecolors = 'black')\n",
    "\n",
    "# give graph labels and grid\n",
    "plt.title(f'City Latitude vs. Wind Speed {time.strftime(\"%m/%d/%Y\")}')\n",
    "plt.xlabel('Latitude')\n",
    "plt.ylabel('Wind Speed')\n",
    "plt.grid(True)\n",
    "\n",
    "# show the plot\n",
    "plt.show()\n",
    "\n",
    "# save the plot as png\n",
    "plt.savefig(\"City Latitude vs. Wind Speed.png\")"
   ]
  },
  {
   "cell_type": "markdown",
   "metadata": {},
   "source": [
    "### Latitude vs. Wind Speed Scatterplot Observations\n",
    "This scatter plot maps over 500 randomly selected cities' latitudes against their cloudiness. This plot shows no substantial correlation between a city's latitude and it's wind speed on a particular day."
   ]
  },
  {
   "cell_type": "markdown",
   "metadata": {},
   "source": [
    "## Linear Regression"
   ]
  },
  {
   "cell_type": "code",
   "execution_count": 23,
   "metadata": {},
   "outputs": [],
   "source": [
    "# create northern and southern hemisphere dataframes \n",
    "# northern hemi lat > 0, southern hemi lat < 0\n",
    "northern_hemi = city_data_df.loc[city_data_df['Lat'] > 0]\n",
    "southern_hemi = city_data_df.loc[city_data_df['Lat'] < 0]"
   ]
  },
  {
   "cell_type": "markdown",
   "metadata": {},
   "source": [
    "####  Northern Hemisphere - Max Temp vs. Latitude Linear Regression"
   ]
  },
  {
   "cell_type": "code",
   "execution_count": 37,
   "metadata": {},
   "outputs": [
    {
     "name": "stdout",
     "output_type": "stream",
     "text": [
      "The r-squared is: 0.7505443610453759\n"
     ]
    },
    {
     "data": {
      "image/png": "[encoded data removed]",
      "text/plain": [
       "<Figure size 432x288 with 1 Axes>"
      ]
     },
     "metadata": {
      "needs_background": "light"
     },
     "output_type": "display_data"
    },
    {
     "data": {
      "text/plain": [
       "<Figure size 432x288 with 0 Axes>"
      ]
     },
     "metadata": {},
     "output_type": "display_data"
    }
   ],
   "source": [
    "# construct linear regression and scatter plot \n",
    "x_values = northern_hemi['Lat']\n",
    "y_values = northern_hemi['Max Temp']\n",
    "(slope, intercept, rvalue, pvalue, stderr) = linregress(x_values, y_values)\n",
    "regress_values = x_values * slope + intercept\n",
    "line_eq = \"y = \" + str(round(slope,2)) + \"x + \" + str(round(intercept,2))\n",
    "plt.scatter(x_values,y_values)\n",
    "plt.plot(x_values,regress_values,\"r-\")\n",
    "plt.annotate(line_eq,(6,10),fontsize=15,color=\"red\")\n",
    "plt.xlabel('Latitude')\n",
    "plt.ylabel('Max Temp')\n",
    "plt.title(f'Northern Hemisphere Latitude vs. Max Temp {time.strftime(\"%m/%d/%Y\")}')\n",
    "print(f\"The r-squared is: {rvalue**2}\")\n",
    "plt.show()\n",
    "\n",
    "# save the plot as png\n",
    "plt.savefig(\"Northern Hemisphere Latitude vs. Max Temperature.png\")"
   ]
  },
  {
   "cell_type": "markdown",
   "metadata": {},
   "source": [
    "####  Southern Hemisphere - Max Temp vs. Latitude Linear Regression"
   ]
  },
  {
   "cell_type": "code",
   "execution_count": 38,
   "metadata": {},
   "outputs": [
    {
     "name": "stdout",
     "output_type": "stream",
     "text": [
      "The r-squared is: 0.6026984563622111\n"
     ]
    },
    {
     "data": {
      "image/png": "[encoded data removed]",
      "text/plain": [
       "<Figure size 432x288 with 1 Axes>"
      ]
     },
     "metadata": {
      "needs_background": "light"
     },
     "output_type": "display_data"
    },
    {
     "data": {
      "text/plain": [
       "<Figure size 432x288 with 0 Axes>"
      ]
     },
     "metadata": {},
     "output_type": "display_data"
    }
   ],
   "source": [
    "# construct linear regression and scatter plot \n",
    "x_values = southern_hemi['Lat']\n",
    "y_values = southern_hemi['Max Temp']\n",
    "(slope, intercept, rvalue, pvalue, stderr) = linregress(x_values, y_values)\n",
    "regress_values = x_values * slope + intercept\n",
    "line_eq = \"y = \" + str(round(slope,2)) + \"x + \" + str(round(intercept,2))\n",
    "plt.scatter(x_values,y_values)\n",
    "plt.plot(x_values,regress_values,\"r-\")\n",
    "plt.annotate(line_eq,(-25, 50),fontsize=15,color=\"red\")\n",
    "plt.xlabel('Latitude')\n",
    "plt.ylabel('Max Temp')\n",
    "plt.title(f'Southern Hemisphere Latitude vs. Max Temp {time.strftime(\"%m/%d/%Y\")}')\n",
    "print(f\"The r-squared is: {rvalue**2}\")\n",
    "plt.show()\n",
    "\n",
    "# save the plot as png\n",
    "plt.savefig(\"Southern Hemisphere Latitude vs. Max Temperature.png\")"
   ]
  },
  {
   "cell_type": "markdown",
   "metadata": {},
   "source": [
    "### North/South Latitude vs. Max Temp Scatterplot Observations\n",
    "These scatter plots map over 500 randomly selected cities' latitudes in the northern and southern hemispheres against their max temperatures. Both of the scatter plots show a strong correlation between latitude and temperature. The close to the equator, the higher the temperature in both hemispheres."
   ]
  },
  {
   "cell_type": "markdown",
   "metadata": {},
   "source": [
    "####  Northern Hemisphere - Humidity (%) vs. Latitude Linear Regression"
   ]
  },
  {
   "cell_type": "code",
   "execution_count": 39,
   "metadata": {},
   "outputs": [
    {
     "name": "stdout",
     "output_type": "stream",
     "text": [
      "The r-squared is: 0.02447203203320608\n"
     ]
    },
    {
     "data": {
      "image/png": "[encoded data removed]",
      "text/plain": [
       "<Figure size 432x288 with 1 Axes>"
      ]
     },
     "metadata": {
      "needs_background": "light"
     },
     "output_type": "display_data"
    },
    {
     "data": {
      "text/plain": [
       "<Figure size 432x288 with 0 Axes>"
      ]
     },
     "metadata": {},
     "output_type": "display_data"
    }
   ],
   "source": [
    "# construct linear regression and scatter plot \n",
    "x_values = northern_hemi['Lat']\n",
    "y_values = northern_hemi['Humidity']\n",
    "(slope, intercept, rvalue, pvalue, stderr) = linregress(x_values, y_values)\n",
    "regress_values = x_values * slope + intercept\n",
    "line_eq = \"y = \" + str(round(slope,2)) + \"x + \" + str(round(intercept,2))\n",
    "plt.scatter(x_values,y_values)\n",
    "plt.plot(x_values,regress_values,\"r-\")\n",
    "plt.annotate(line_eq,(40, 10),fontsize=15,color=\"red\")\n",
    "plt.xlabel('Latitude')\n",
    "plt.ylabel('Humidity')\n",
    "plt.title(f'Northern Hemisphere Latitude vs. Humidity {time.strftime(\"%m/%d/%Y\")}')\n",
    "print(f\"The r-squared is: {rvalue**2}\")\n",
    "plt.show()\n",
    "\n",
    "# save the plot as png\n",
    "plt.savefig(\"Northern Hemisphere Latitude vs. Humidity.png\")"
   ]
  },
  {
   "cell_type": "markdown",
   "metadata": {},
   "source": [
    "####  Southern Hemisphere - Humidity (%) vs. Latitude Linear Regression"
   ]
  },
  {
   "cell_type": "code",
   "execution_count": 40,
   "metadata": {},
   "outputs": [
    {
     "name": "stdout",
     "output_type": "stream",
     "text": [
      "The r-squared is: 0.007371029141800509\n"
     ]
    },
    {
     "data": {
      "image/png": "[encoded data removed]",
      "text/plain": [
       "<Figure size 432x288 with 1 Axes>"
      ]
     },
     "metadata": {
      "needs_background": "light"
     },
     "output_type": "display_data"
    },
    {
     "data": {
      "text/plain": [
       "<Figure size 432x288 with 0 Axes>"
      ]
     },
     "metadata": {},
     "output_type": "display_data"
    }
   ],
   "source": [
    "# construct linear regression and scatter plot \n",
    "x_values = southern_hemi['Lat']\n",
    "y_values = southern_hemi['Humidity']\n",
    "(slope, intercept, rvalue, pvalue, stderr) = linregress(x_values, y_values)\n",
    "regress_values = x_values * slope + intercept\n",
    "line_eq = \"y = \" + str(round(slope,2)) + \"x + \" + str(round(intercept,2))\n",
    "plt.scatter(x_values,y_values)\n",
    "plt.plot(x_values,regress_values,\"r-\")\n",
    "plt.annotate(line_eq,(-50, 20),fontsize=15,color=\"red\")\n",
    "plt.xlabel('Latitude')\n",
    "plt.ylabel('Humidity')\n",
    "plt.title(f'Southern Hemisphere Latitude vs. Humidity {time.strftime(\"%m/%d/%Y\")}')\n",
    "print(f\"The r-squared is: {rvalue**2}\")\n",
    "plt.show()\n",
    "\n",
    "# save the plot as png\n",
    "plt.savefig(\"Southern Hemisphere Latitude vs. Humidity.png\")"
   ]
  },
  {
   "cell_type": "markdown",
   "metadata": {},
   "source": [
    "### North/South Latitude vs. Humidity Scatterplot Observations\n",
    "These scatter plots map over 500 randomly selected cities' latitudes in the northern and southern hemispheres against their humidity. Both of the scatter plots show that there is no correlation between latitude and humidity. Both linear regression equations have slopes close to zero, which suggests a weak correlation between the two attributes being displayed."
   ]
  },
  {
   "cell_type": "markdown",
   "metadata": {},
   "source": [
    "####  Northern Hemisphere - Cloudiness (%) vs. Latitude Linear Regression"
   ]
  },
  {
   "cell_type": "code",
   "execution_count": 41,
   "metadata": {},
   "outputs": [
    {
     "name": "stdout",
     "output_type": "stream",
     "text": [
      "The r-squared is: 0.016109117892084714\n"
     ]
    },
    {
     "data": {
      "image/png": "[encoded data removed]",
      "text/plain": [
       "<Figure size 432x288 with 1 Axes>"
      ]
     },
     "metadata": {
      "needs_background": "light"
     },
     "output_type": "display_data"
    },
    {
     "data": {
      "text/plain": [
       "<Figure size 432x288 with 0 Axes>"
      ]
     },
     "metadata": {},
     "output_type": "display_data"
    }
   ],
   "source": [
    "# construct linear regression and scatter plot \n",
    "x_values = northern_hemi['Lat']\n",
    "y_values = northern_hemi['Cloudiness']\n",
    "(slope, intercept, rvalue, pvalue, stderr) = linregress(x_values, y_values)\n",
    "regress_values = x_values * slope + intercept\n",
    "line_eq = \"y = \" + str(round(slope,2)) + \"x + \" + str(round(intercept,2))\n",
    "plt.scatter(x_values,y_values)\n",
    "plt.plot(x_values,regress_values,\"r-\")\n",
    "plt.annotate(line_eq,(40, 10),fontsize=15,color=\"red\")\n",
    "plt.xlabel('Latitude')\n",
    "plt.ylabel('Cloudiness')\n",
    "plt.title(f'Northern Hemisphere Latitude vs. Cloudiness {time.strftime(\"%m/%d/%Y\")}')\n",
    "print(f\"The r-squared is: {rvalue**2}\")\n",
    "plt.show()\n",
    "\n",
    "# save the plot as png\n",
    "plt.savefig(\"Northern Hemisphere Latitude vs. Cloudiness.png\")"
   ]
  },
  {
   "cell_type": "markdown",
   "metadata": {},
   "source": [
    "####  Southern Hemisphere - Cloudiness (%) vs. Latitude Linear Regression"
   ]
  },
  {
   "cell_type": "code",
   "execution_count": 42,
   "metadata": {},
   "outputs": [
    {
     "name": "stdout",
     "output_type": "stream",
     "text": [
      "The r-squared is: 0.0892094437719014\n"
     ]
    },
    {
     "data": {
      "image/png": "[encoded data removed]",
      "text/plain": [
       "<Figure size 432x288 with 1 Axes>"
      ]
     },
     "metadata": {
      "needs_background": "light"
     },
     "output_type": "display_data"
    },
    {
     "data": {
      "text/plain": [
       "<Figure size 432x288 with 0 Axes>"
      ]
     },
     "metadata": {},
     "output_type": "display_data"
    }
   ],
   "source": [
    "# construct linear regression and scatter plot \n",
    "x_values = southern_hemi['Lat']\n",
    "y_values = southern_hemi['Cloudiness']\n",
    "(slope, intercept, rvalue, pvalue, stderr) = linregress(x_values, y_values)\n",
    "regress_values = x_values * slope + intercept\n",
    "line_eq = \"y = \" + str(round(slope,2)) + \"x + \" + str(round(intercept,2))\n",
    "plt.scatter(x_values,y_values)\n",
    "plt.plot(x_values,regress_values,\"r-\")\n",
    "plt.annotate(line_eq,(-30, 30),fontsize=15,color=\"red\")\n",
    "plt.xlabel('Latitude')\n",
    "plt.ylabel('Cloudiness')\n",
    "plt.title(f'Southern Hemisphere Latitude vs. Cloudiness {time.strftime(\"%m/%d/%Y\")}')\n",
    "print(f\"The r-squared is: {rvalue**2}\")\n",
    "plt.show()\n",
    "\n",
    "# save the plot as png\n",
    "plt.savefig(\"Southern Hemisphere Latitude vs. Cloudiness.png\")"
   ]
  },
  {
   "cell_type": "markdown",
   "metadata": {},
   "source": [
    "### North/South Latitude vs. Cloudiness Scatterplot Observations\n",
    "These scatter plots map over 500 randomly selected cities' latitudes in the northern and southern hemispheres against their cloudiness. For this particular set of randomized cities, the plot of the northern hemisphere cities shows no correlation, which is evidenced by the slope of the linear regression equation being close to 0. However, the southern hemisphere shows a stronger correlation with the linear regression slope being closer to 1. "
   ]
  },
  {
   "cell_type": "markdown",
   "metadata": {},
   "source": [
    "####  Northern Hemisphere - Wind Speed (mph) vs. Latitude Linear Regression"
   ]
  },
  {
   "cell_type": "code",
   "execution_count": 43,
   "metadata": {},
   "outputs": [
    {
     "name": "stdout",
     "output_type": "stream",
     "text": [
      "The r-squared is: 0.03803320446300508\n"
     ]
    },
    {
     "data": {
      "image/png": "[encoded data removed]",
      "text/plain": [
       "<Figure size 432x288 with 1 Axes>"
      ]
     },
     "metadata": {
      "needs_background": "light"
     },
     "output_type": "display_data"
    },
    {
     "data": {
      "text/plain": [
       "<Figure size 432x288 with 0 Axes>"
      ]
     },
     "metadata": {},
     "output_type": "display_data"
    }
   ],
   "source": [
    "# construct linear regression and scatter plot \n",
    "x_values = northern_hemi['Lat']\n",
    "y_values = northern_hemi['Wind Speed']\n",
    "(slope, intercept, rvalue, pvalue, stderr) = linregress(x_values, y_values)\n",
    "regress_values = x_values * slope + intercept\n",
    "line_eq = \"y = \" + str(round(slope,2)) + \"x + \" + str(round(intercept,2))\n",
    "plt.scatter(x_values,y_values)\n",
    "plt.plot(x_values,regress_values,\"r-\")\n",
    "plt.annotate(line_eq,(40, 30),fontsize=15,color=\"red\")\n",
    "plt.xlabel('Latitude')\n",
    "plt.ylabel('Wind Speed')\n",
    "plt.title(f'Northern Hemisphere Latitude vs. Wind Speed {time.strftime(\"%m/%d/%Y\")}')\n",
    "print(f\"The r-squared is: {rvalue**2}\")\n",
    "plt.show()\n",
    "\n",
    "# save the plot as png\n",
    "plt.savefig(\"Northern Hemisphere Latitude vs. Wind Speed.png\")"
   ]
  },
  {
   "cell_type": "markdown",
   "metadata": {},
   "source": [
    "####  Southern Hemisphere - Wind Speed (mph) vs. Latitude Linear Regression"
   ]
  },
  {
   "cell_type": "code",
   "execution_count": 44,
   "metadata": {},
   "outputs": [
    {
     "name": "stdout",
     "output_type": "stream",
     "text": [
      "The r-squared is: 0.026110083193459695\n"
     ]
    },
    {
     "data": {
      "image/png": "[encoded data removed]",
      "text/plain": [
       "<Figure size 432x288 with 1 Axes>"
      ]
     },
     "metadata": {
      "needs_background": "light"
     },
     "output_type": "display_data"
    },
    {
     "data": {
      "text/plain": [
       "<Figure size 432x288 with 0 Axes>"
      ]
     },
     "metadata": {},
     "output_type": "display_data"
    }
   ],
   "source": [
    "# construct linear regression and scatter plot \n",
    "x_values = southern_hemi['Lat']\n",
    "y_values = southern_hemi['Wind Speed']\n",
    "(slope, intercept, rvalue, pvalue, stderr) = linregress(x_values, y_values)\n",
    "regress_values = x_values * slope + intercept\n",
    "line_eq = \"y = \" + str(round(slope,2)) + \"x + \" + str(round(intercept,2))\n",
    "plt.scatter(x_values,y_values)\n",
    "plt.plot(x_values,regress_values,\"r-\")\n",
    "plt.annotate(line_eq,(-50, 25),fontsize=15,color=\"red\")\n",
    "plt.xlabel('Latitude')\n",
    "plt.ylabel('Wind Speed')\n",
    "plt.title(f'Southern Hemisphere Latitude vs. Wind Speed {time.strftime(\"%m/%d/%Y\")}')\n",
    "print(f\"The r-squared is: {rvalue**2}\")\n",
    "plt.show()\n",
    "\n",
    "# save the plot as png\n",
    "plt.savefig(\"Southern Hemisphere Latitude vs. Wind Speed.png\")"
   ]
  },
  {
   "cell_type": "markdown",
   "metadata": {},
   "source": [
    "### North/South Latitude vs. Wind Speed Scatterplot Observations\n",
    "These scatter plots map over 500 randomly selected cities' latitudes in the northern and southern hemispheres against their wind speed. Both of the scatter plots show that there is no correlation between latitude and wind speed. Both linear regression equations have slopes close to zero, which suggests a weak correlation between the two attributes being displayed."
   ]
  },
  {
   "cell_type": "code",
   "execution_count": null,
   "metadata": {},
   "outputs": [],
   "source": []
  }
 ],
 "metadata": {
  "anaconda-cloud": {},
  "kernel_info": {
   "name": "python3"
  },
  "kernelspec": {
   "display_name": "Python 3",
   "language": "python",
   "name": "python3"
  },
  "language_info": {
   "codemirror_mode": {
    "name": "ipython",
    "version": 3
   },
   "file_extension": ".py",
   "mimetype": "text/x-python",
   "name": "python",
   "nbconvert_exporter": "python",
   "pygments_lexer": "ipython3",
   "version": "3.8.8"
  },
  "latex_envs": {
   "LaTeX_envs_menu_present": true,
   "autoclose": false,
   "autocomplete": true,
   "bibliofile": "biblio.bib",
   "cite_by": "apalike",
   "current_citInitial": 1,
   "eqLabelWithNumbers": true,
   "eqNumInitial": 1,
   "hotkeys": {
    "equation": "Ctrl-E",
    "itemize": "Ctrl-I"
   },
   "labels_anchors": false,
   "latex_user_defs": false,
   "report_style_numbering": false,
   "user_envs_cfg": false
  },
  "nteract": {
   "version": "0.12.3"
  }
 },
 "nbformat": 4,
 "nbformat_minor": 2
}
